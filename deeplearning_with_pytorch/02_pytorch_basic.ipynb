{
 "cells": [
  {
   "cell_type": "code",
   "execution_count": 1,
   "id": "upper-smoke",
   "metadata": {},
   "outputs": [],
   "source": [
    "import torch\n",
    "import numpy as np"
   ]
  },
  {
   "cell_type": "markdown",
   "id": "accepting-corps",
   "metadata": {},
   "source": [
    "# 01. 파이토치 패키지 기본 구성\n",
    "## 1. torch\n",
    "- 메인 네임스페이스\n",
    "- 텐서 등 다양한 수학 함수가 포함\n",
    "- numpy와 유사한 구조 "
   ]
  },
  {
   "cell_type": "markdown",
   "id": "seven-study",
   "metadata": {},
   "source": [
    "(1) tensor 생성"
   ]
  },
  {
   "cell_type": "code",
   "execution_count": 4,
   "id": "conservative-order",
   "metadata": {},
   "outputs": [
    {
     "name": "stdout",
     "output_type": "stream",
     "text": [
      "tensor([[1, 2],\n",
      "        [3, 4]])\n"
     ]
    }
   ],
   "source": [
    "data = [[1, 2], [3, 4]]\n",
    "x = torch.tensor(data)\n",
    "print(x)"
   ]
  },
  {
   "cell_type": "markdown",
   "id": "rotary-commodity",
   "metadata": {},
   "source": [
    "(2) np배열에서 tensor 생성"
   ]
  },
  {
   "cell_type": "code",
   "execution_count": 5,
   "id": "operational-affairs",
   "metadata": {},
   "outputs": [
    {
     "name": "stdout",
     "output_type": "stream",
     "text": [
      "tensor([[1, 2],\n",
      "        [3, 4]])\n"
     ]
    }
   ],
   "source": [
    "np_array = np.array(data)\n",
    "x_np = torch.from_numpy(np_array)\n",
    "print(x_np)"
   ]
  },
  {
   "cell_type": "markdown",
   "id": "planned-mobility",
   "metadata": {},
   "source": [
    "## 2. torch.autograd\n",
    "- 자동 미분을 위한 함수들이 포함\n",
    "- 자동 미분의 on/off를 제어하는 콘텍스트 매니저(enable_grad/no_grad)\n",
    "- 자체 미분 가능 함수를 정의할 때 사용하는 기반 클래스(Function)가 포함 "
   ]
  },
  {
   "cell_type": "code",
   "execution_count": null,
   "id": "parallel-drinking",
   "metadata": {},
   "outputs": [],
   "source": [
    "torch.autograd"
   ]
  },
  {
   "cell_type": "markdown",
   "id": "forced-munich",
   "metadata": {},
   "source": [
    "## 3. torch.nn\n",
    "- 신경망을 구축하기 위한 데이터 구조, 레이어가 정의되어있음 \n",
    "- rnn, lstm layers\n",
    "- relu 등 활성화 함수\n",
    "- mseloss 등 손실함수"
   ]
  },
  {
   "cell_type": "code",
   "execution_count": null,
   "id": "interior-collectible",
   "metadata": {},
   "outputs": [],
   "source": [
    "torch.nn"
   ]
  },
  {
   "cell_type": "markdown",
   "id": "waiting-radius",
   "metadata": {},
   "source": [
    "## 4. torch.optim\n",
    "- 확률적 경사 하강법(stochastic gradient descent, sgd)를 중심으로한 파라미터 최적화 알고리즘이 구현되어있다."
   ]
  },
  {
   "cell_type": "code",
   "execution_count": null,
   "id": "common-rotation",
   "metadata": {},
   "outputs": [],
   "source": [
    "torch.optim"
   ]
  },
  {
   "cell_type": "markdown",
   "id": "sapphire-portsmouth",
   "metadata": {},
   "source": [
    "## 5. torch.utils.data\n",
    "- sgd의 반복 연산을 실행할 때 사용하는 미니 배치용 유틸리티 함수가 포함되어있다."
   ]
  },
  {
   "cell_type": "code",
   "execution_count": null,
   "id": "failing-shell",
   "metadata": {},
   "outputs": [],
   "source": [
    "torch.utils.data"
   ]
  },
  {
   "cell_type": "markdown",
   "id": "infectious-leave",
   "metadata": {},
   "source": [
    "## 6. torch.onnx\n",
    "- ONNX(open neural network exchange)의 포맷으로 모델을 export할 때 사용\n",
    "- ONNX : 서로 다른 딥러닝 프레임워크 간 모델을 공유할 때 사용하는 포맷 "
   ]
  },
  {
   "cell_type": "markdown",
   "id": "understanding-minute",
   "metadata": {},
   "source": [
    "# 02. 텐서 조작하기(Tensor Manipulation)\n",
    "## 1. 벡터, 행렬, 텐서"
   ]
  },
  {
   "attachments": {
    "image.png": {
     "image/png": "[encoded data removed]"
    }
   },
   "cell_type": "markdown",
   "id": "paperback-dinner",
   "metadata": {},
   "source": [
    "딥러닝을 공부하면서 가장 많이 듣게 된 단위가 벡터, 행렬, 텐서였다. 각각 어떻게 다른지 개념을 정리해보고자 한다.      \n",
    "![image.png](attachment:image.png)  \n",
    "\n",
    "1. 스칼라 : 하나의 숫자\n",
    "2. 벡터 : 1차원으로 구성된 값, 스칼라(숫자)의 배열\n",
    "3. 행렬 : 2차원으로 구성된 값\n",
    "4. 텐서 : 3차원으로 구성된 값 \n",
    "\n",
    "- 텐서\n",
    "    - 텐서는 rank 0부터 rank n까지 있다.\n",
    "    - 위에서 설명한 스칼라, 벡터, 행렬도 텐서로 표현할 수 있다.\n",
    "    - 스칼라 : 0 rank 텐서\n",
    "    - 벡터 : 1 rank 텐서\n",
    "    - 행렬 : 2 rank 텐서\n",
    "\n",
    "**reference**    \n",
    "https://www.youtube.com/watch?v=m0qwxNA7IzI   \n",
    "https://art28.github.io/blog/linear-algebra-1/"
   ]
  },
  {
   "cell_type": "markdown",
   "id": "dominican-building",
   "metadata": {},
   "source": [
    "## 2. 넘파이로 텐서 만들기(벡터와 행렬 만들기)\n",
    "### 벡터의 차원과 크기"
   ]
  },
  {
   "cell_type": "code",
   "execution_count": 6,
   "id": "worthy-tractor",
   "metadata": {},
   "outputs": [
    {
     "name": "stdout",
     "output_type": "stream",
     "text": [
      "[0. 1. 2. 3. 4. 5. 6.]\n"
     ]
    }
   ],
   "source": [
    "t = np.array([0., 1., 2., 3., 4., 5., 6.])\n",
    "print(t)"
   ]
  },
  {
   "cell_type": "code",
   "execution_count": 7,
   "id": "sacred-tennessee",
   "metadata": {},
   "outputs": [
    {
     "name": "stdout",
     "output_type": "stream",
     "text": [
      "Rank of t : 1\n",
      "Shape of t : (7,)\n"
     ]
    }
   ],
   "source": [
    "print('Rank of t :', t.ndim)\n",
    "print('Shape of t :', t.shape)"
   ]
  },
  {
   "cell_type": "markdown",
   "id": "greatest-truck",
   "metadata": {},
   "source": [
    "1차원, (1, 7) shape을 가진 벡터라는 것을 확인할 수 있다."
   ]
  },
  {
   "cell_type": "code",
   "execution_count": 8,
   "id": "going-suite",
   "metadata": {
    "scrolled": true
   },
   "outputs": [
    {
     "name": "stdout",
     "output_type": "stream",
     "text": [
      "[[ 1.  2.  3.]\n",
      " [ 4.  5.  6.]\n",
      " [ 7.  8.  9.]\n",
      " [10. 11. 12.]]\n"
     ]
    }
   ],
   "source": [
    "t = np.array([[1., 2., 3.], [4., 5., 6.], [7., 8., 9.], [10., 11., 12.]])\n",
    "print(t)"
   ]
  },
  {
   "cell_type": "code",
   "execution_count": 10,
   "id": "clinical-april",
   "metadata": {},
   "outputs": [
    {
     "name": "stdout",
     "output_type": "stream",
     "text": [
      "Rank of t : 2\n",
      "Shape of t : (4, 3)\n"
     ]
    }
   ],
   "source": [
    "print('Rank of t :', t.ndim)\n",
    "print('Shape of t :', t.shape)"
   ]
  },
  {
   "cell_type": "markdown",
   "id": "intimate-textbook",
   "metadata": {},
   "source": [
    "2차원, (4, 3)shape을 가진 벡터를 볼 수 있다."
   ]
  },
  {
   "cell_type": "markdown",
   "id": "fluid-surveillance",
   "metadata": {},
   "source": [
    "## 3. 파이토치 텐서\n",
    "- 1차원 텐서"
   ]
  },
  {
   "cell_type": "code",
   "execution_count": 2,
   "id": "color-smell",
   "metadata": {},
   "outputs": [
    {
     "name": "stdout",
     "output_type": "stream",
     "text": [
      "tensor([0., 1., 2., 3., 4., 5., 6.])\n"
     ]
    }
   ],
   "source": [
    "t = torch.FloatTensor([0., 1., 2., 3., 4., 5., 6.])\n",
    "print(t)"
   ]
  },
  {
   "cell_type": "code",
   "execution_count": 3,
   "id": "attached-genome",
   "metadata": {},
   "outputs": [
    {
     "name": "stdout",
     "output_type": "stream",
     "text": [
      "Rank of t : 1\n",
      "Shape of t : torch.Size([7])\n",
      "Size of t : torch.Size([7])\n"
     ]
    }
   ],
   "source": [
    "print('Rank of t :', t.dim())\n",
    "print('Shape of t :', t.shape)\n",
    "print('Size of t :', t.size())"
   ]
  },
  {
   "cell_type": "markdown",
   "id": "official-absorption",
   "metadata": {},
   "source": [
    "- 인덱스 접근\n",
    "- 슬라이싱"
   ]
  },
  {
   "cell_type": "code",
   "execution_count": 4,
   "id": "proper-tamil",
   "metadata": {},
   "outputs": [
    {
     "name": "stdout",
     "output_type": "stream",
     "text": [
      "tensor(0.) tensor(1.) tensor(6.)\n",
      "tensor([2., 3., 4.]) tensor([4., 5.])\n",
      "tensor([0., 1.]) tensor([3., 4., 5., 6.])\n"
     ]
    }
   ],
   "source": [
    "print(t[0], t[1], t[-1])  # 인덱스로 접근\n",
    "print(t[2:5], t[4:-1])    # 슬라이싱\n",
    "print(t[:2], t[3:])       # 슬라이싱"
   ]
  },
  {
   "cell_type": "markdown",
   "id": "copyrighted-monitor",
   "metadata": {},
   "source": [
    "- 2차원 텐서"
   ]
  },
  {
   "cell_type": "code",
   "execution_count": 5,
   "id": "proper-edition",
   "metadata": {},
   "outputs": [
    {
     "name": "stdout",
     "output_type": "stream",
     "text": [
      "tensor([[ 1.,  2.,  3.],\n",
      "        [ 4.,  5.,  6.],\n",
      "        [ 7.,  8.,  9.],\n",
      "        [10., 11., 12.]])\n"
     ]
    }
   ],
   "source": [
    "t = torch.FloatTensor([[1., 2., 3.],\n",
    "                       [4., 5., 6.],\n",
    "                       [7., 8., 9.],\n",
    "                       [10., 11., 12.]\n",
    "                      ])\n",
    "print(t)"
   ]
  },
  {
   "cell_type": "code",
   "execution_count": 6,
   "id": "egyptian-apple",
   "metadata": {},
   "outputs": [
    {
     "name": "stdout",
     "output_type": "stream",
     "text": [
      "Rank of t : 2\n",
      "Shape of t : torch.Size([4, 3])\n",
      "Size of t : torch.Size([4, 3])\n"
     ]
    }
   ],
   "source": [
    "print('Rank of t :', t.dim())\n",
    "print('Shape of t :', t.shape)\n",
    "print('Size of t :', t.size())"
   ]
  },
  {
   "cell_type": "code",
   "execution_count": 7,
   "id": "neural-pipeline",
   "metadata": {},
   "outputs": [
    {
     "name": "stdout",
     "output_type": "stream",
     "text": [
      "tensor([ 2.,  5.,  8., 11.])\n",
      "torch.Size([4])\n"
     ]
    }
   ],
   "source": [
    "print(t[:, 1]) # 첫번째 차원을 전체 선택한 상황에서 두번째 차원의 첫번째 것만 가져온다.\n",
    "print(t[:, 1].size()) # ↑ 위의 경우의 크기"
   ]
  },
  {
   "cell_type": "markdown",
   "id": "technical-kernel",
   "metadata": {},
   "source": [
    "## 4. 연산\n",
    "### 브로드캐스팅(Broadcasting)\n",
    "- 행렬 연산시 두 행렬의 크기 혹은 첫 번째 차원이 일치해야한다.\n",
    "- 연산을 위해 자동으로 크기를 맞춰주는 기능 : **브로드캐스팅** "
   ]
  },
  {
   "cell_type": "markdown",
   "id": "veterinary-wyoming",
   "metadata": {},
   "source": [
    "같은 크기일 때의 덧셈 연산"
   ]
  },
  {
   "cell_type": "code",
   "execution_count": 10,
   "id": "concrete-soundtrack",
   "metadata": {},
   "outputs": [
    {
     "name": "stdout",
     "output_type": "stream",
     "text": [
      "tensor([[5., 5.]])\n"
     ]
    }
   ],
   "source": [
    "m1 = torch.FloatTensor([[3, 3]])\n",
    "m2 = torch.FloatTensor([[2, 2]])\n",
    "print(m1 + m2)"
   ]
  },
  {
   "cell_type": "markdown",
   "id": "cubic-venice",
   "metadata": {},
   "source": [
    "다른 크기일 때의 연산 : **브로드캐스팅**"
   ]
  },
  {
   "cell_type": "code",
   "execution_count": 11,
   "id": "animal-softball",
   "metadata": {},
   "outputs": [
    {
     "name": "stdout",
     "output_type": "stream",
     "text": [
      "tensor([[5., 5.]])\n"
     ]
    }
   ],
   "source": [
    "m1 = torch.FloatTensor([[3]])\n",
    "m2 = torch.FloatTensor([[2, 2]])\n",
    "print(m1 + m2)"
   ]
  },
  {
   "cell_type": "markdown",
   "id": "fourth-victor",
   "metadata": {},
   "source": [
    "### 행렬 곱셈(Matrix Multiplication) VS 곱셈(Multiplication)"
   ]
  },
  {
   "cell_type": "code",
   "execution_count": 12,
   "id": "printable-pacific",
   "metadata": {},
   "outputs": [
    {
     "name": "stdout",
     "output_type": "stream",
     "text": [
      "Shape of Matrix 1:  torch.Size([2, 2])\n",
      "Shape of Matrix 2:  torch.Size([2, 1])\n",
      "tensor([[ 5.],\n",
      "        [11.]])\n"
     ]
    }
   ],
   "source": [
    "m1 = torch.FloatTensor([[1, 2], [3, 4]])\n",
    "m2 = torch.FloatTensor([[1], [2]])\n",
    "print('Shape of Matrix 1: ', m1.shape) # 2 x 2\n",
    "print('Shape of Matrix 2: ', m2.shape) # 2 x 1\n",
    "print(m1.matmul(m2)) # 2 x 1"
   ]
  },
  {
   "cell_type": "code",
   "execution_count": 13,
   "id": "honest-decimal",
   "metadata": {},
   "outputs": [
    {
     "name": "stdout",
     "output_type": "stream",
     "text": [
      "Shape of Matrix 1:  torch.Size([2, 2])\n",
      "Shape of Matrix 2:  torch.Size([2, 1])\n",
      "tensor([[1., 2.],\n",
      "        [6., 8.]])\n",
      "tensor([[1., 2.],\n",
      "        [6., 8.]])\n"
     ]
    }
   ],
   "source": [
    "m1 = torch.FloatTensor([[1, 2], [3, 4]])\n",
    "m2 = torch.FloatTensor([[1], [2]])\n",
    "print('Shape of Matrix 1: ', m1.shape) # 2 x 2\n",
    "print('Shape of Matrix 2: ', m2.shape) # 2 x 1\n",
    "print(m1 * m2) # 2 x 2\n",
    "print(m1.mul(m2))"
   ]
  },
  {
   "cell_type": "markdown",
   "id": "entitled-invalid",
   "metadata": {},
   "source": [
    "### 평균(mean)"
   ]
  },
  {
   "cell_type": "code",
   "execution_count": 14,
   "id": "consistent-democracy",
   "metadata": {},
   "outputs": [
    {
     "name": "stdout",
     "output_type": "stream",
     "text": [
      "tensor(1.5000)\n"
     ]
    }
   ],
   "source": [
    "t = torch.FloatTensor([1, 2])\n",
    "print(t.mean())"
   ]
  },
  {
   "cell_type": "markdown",
   "id": "micro-disney",
   "metadata": {},
   "source": [
    "### 덧셈(sum)"
   ]
  },
  {
   "cell_type": "code",
   "execution_count": 15,
   "id": "living-georgia",
   "metadata": {},
   "outputs": [
    {
     "name": "stdout",
     "output_type": "stream",
     "text": [
      "tensor([[1., 2.],\n",
      "        [3., 4.]])\n"
     ]
    }
   ],
   "source": [
    "t = torch.FloatTensor([[1, 2], [3, 4]])\n",
    "print(t)"
   ]
  },
  {
   "cell_type": "code",
   "execution_count": 16,
   "id": "trained-appointment",
   "metadata": {},
   "outputs": [
    {
     "name": "stdout",
     "output_type": "stream",
     "text": [
      "tensor(10.)\n",
      "tensor([4., 6.])\n",
      "tensor([3., 7.])\n",
      "tensor([3., 7.])\n"
     ]
    }
   ],
   "source": [
    "print(t.sum()) # 단순히 원소 전체의 덧셈을 수행\n",
    "print(t.sum(dim=0)) # 행을 제거\n",
    "print(t.sum(dim=1)) # 열을 제거\n",
    "print(t.sum(dim=-1)) # 열을 제거"
   ]
  },
  {
   "cell_type": "markdown",
   "id": "equivalent-statement",
   "metadata": {},
   "source": [
    "### 최대(Max), 아그맥스(ArgMax)"
   ]
  },
  {
   "cell_type": "code",
   "execution_count": 17,
   "id": "incident-toolbox",
   "metadata": {},
   "outputs": [
    {
     "name": "stdout",
     "output_type": "stream",
     "text": [
      "tensor([[1., 2.],\n",
      "        [3., 4.]])\n"
     ]
    }
   ],
   "source": [
    "t = torch.FloatTensor([[1, 2], [3, 4]])\n",
    "print(t)"
   ]
  },
  {
   "cell_type": "code",
   "execution_count": 18,
   "id": "published-institution",
   "metadata": {},
   "outputs": [
    {
     "name": "stdout",
     "output_type": "stream",
     "text": [
      "tensor(4.)\n"
     ]
    }
   ],
   "source": [
    "print(t.max()) # Returns one value: max"
   ]
  },
  {
   "cell_type": "code",
   "execution_count": 19,
   "id": "neutral-reason",
   "metadata": {},
   "outputs": [
    {
     "name": "stdout",
     "output_type": "stream",
     "text": [
      "torch.return_types.max(\n",
      "values=tensor([3., 4.]),\n",
      "indices=tensor([1, 1]))\n"
     ]
    }
   ],
   "source": [
    "print(t.max(dim=0)) # Returns two values: max and argmax"
   ]
  },
  {
   "cell_type": "code",
   "execution_count": 20,
   "id": "helpful-assets",
   "metadata": {},
   "outputs": [
    {
     "name": "stdout",
     "output_type": "stream",
     "text": [
      "Max:  tensor([3., 4.])\n",
      "Argmax:  tensor([1, 1])\n"
     ]
    }
   ],
   "source": [
    "print('Max: ', t.max(dim=0)[0])\n",
    "print('Argmax: ', t.max(dim=0)[1])"
   ]
  },
  {
   "cell_type": "markdown",
   "id": "surface-casino",
   "metadata": {},
   "source": [
    "### 뷰(View)\n",
    "- numpy reshape과 같은 역할\n",
    "- 원소의 수를 유지하면서 텐서의 크기 변경"
   ]
  },
  {
   "cell_type": "code",
   "execution_count": 21,
   "id": "alert-train",
   "metadata": {},
   "outputs": [],
   "source": [
    "t = np.array([[[0, 1, 2],\n",
    "               [3, 4, 5]],\n",
    "              [[6, 7, 8],\n",
    "               [9, 10, 11]]])\n",
    "ft = torch.FloatTensor(t)"
   ]
  },
  {
   "cell_type": "code",
   "execution_count": 22,
   "id": "stuck-flashing",
   "metadata": {},
   "outputs": [
    {
     "name": "stdout",
     "output_type": "stream",
     "text": [
      "Rank of ft : 3\n",
      "Shape of ft : torch.Size([2, 2, 3])\n",
      "Size of ft : torch.Size([2, 2, 3])\n"
     ]
    }
   ],
   "source": [
    "print('Rank of ft :', ft.dim())\n",
    "print('Shape of ft :', ft.shape)\n",
    "print('Size of ft :', ft.size())"
   ]
  },
  {
   "cell_type": "markdown",
   "id": "dutch-croatia",
   "metadata": {},
   "source": [
    "- 2차원으로 변경"
   ]
  },
  {
   "cell_type": "code",
   "execution_count": 23,
   "id": "regular-reason",
   "metadata": {},
   "outputs": [
    {
     "name": "stdout",
     "output_type": "stream",
     "text": [
      "tensor([[ 0.,  1.,  2.],\n",
      "        [ 3.,  4.,  5.],\n",
      "        [ 6.,  7.,  8.],\n",
      "        [ 9., 10., 11.]])\n",
      "torch.Size([4, 3])\n"
     ]
    }
   ],
   "source": [
    "print(ft.view([-1, 3])) # ft라는 텐서를 (?, 3)의 크기로 변경\n",
    "print(ft.view([-1, 3]).shape)"
   ]
  },
  {
   "cell_type": "markdown",
   "id": "suited-plant",
   "metadata": {},
   "source": [
    "(2, 2, 3) -> (4, 3) 으로 자동 Reshape\n",
    "- 차원 유지, 크기 변경"
   ]
  },
  {
   "cell_type": "code",
   "execution_count": 24,
   "id": "varied-extraction",
   "metadata": {},
   "outputs": [
    {
     "name": "stdout",
     "output_type": "stream",
     "text": [
      "tensor([[[ 0.,  1.,  2.]],\n",
      "\n",
      "        [[ 3.,  4.,  5.]],\n",
      "\n",
      "        [[ 6.,  7.,  8.]],\n",
      "\n",
      "        [[ 9., 10., 11.]]])\n",
      "torch.Size([4, 1, 3])\n"
     ]
    }
   ],
   "source": [
    "print(ft.view([-1, 1, 3])) # ft라는 텐서를 (?, 3)의 크기로 변경\n",
    "print(ft.view([-1, 1, 3]).shape)"
   ]
  },
  {
   "cell_type": "markdown",
   "id": "scenic-commission",
   "metadata": {},
   "source": [
    "### 스퀴즈(Squeeze)\n",
    "- 1인 차원 제거"
   ]
  },
  {
   "cell_type": "code",
   "execution_count": 25,
   "id": "aggregate-procurement",
   "metadata": {},
   "outputs": [
    {
     "name": "stdout",
     "output_type": "stream",
     "text": [
      "tensor([[0.],\n",
      "        [1.],\n",
      "        [2.]])\n",
      "torch.Size([3, 1])\n"
     ]
    }
   ],
   "source": [
    "ft = torch.FloatTensor([[0], [1], [2]])\n",
    "print(ft)\n",
    "print(ft.shape)"
   ]
  },
  {
   "cell_type": "code",
   "execution_count": 26,
   "id": "buried-brunei",
   "metadata": {},
   "outputs": [
    {
     "name": "stdout",
     "output_type": "stream",
     "text": [
      "tensor([0., 1., 2.])\n",
      "torch.Size([3])\n"
     ]
    }
   ],
   "source": [
    "print(ft.squeeze())\n",
    "print(ft.squeeze().shape)"
   ]
  },
  {
   "cell_type": "markdown",
   "id": "departmental-desert",
   "metadata": {},
   "source": [
    "### 언스퀴즈(Unsqueeze)\n",
    "- 특정 위치에 1인 차원을 추가"
   ]
  },
  {
   "cell_type": "code",
   "execution_count": 27,
   "id": "stylish-chinese",
   "metadata": {},
   "outputs": [
    {
     "name": "stdout",
     "output_type": "stream",
     "text": [
      "torch.Size([3])\n"
     ]
    }
   ],
   "source": [
    "ft = torch.Tensor([0, 1, 2])\n",
    "print(ft.shape)"
   ]
  },
  {
   "cell_type": "code",
   "execution_count": 28,
   "id": "changing-sodium",
   "metadata": {},
   "outputs": [
    {
     "name": "stdout",
     "output_type": "stream",
     "text": [
      "tensor([[0., 1., 2.]])\n",
      "torch.Size([1, 3])\n"
     ]
    }
   ],
   "source": [
    "print(ft.unsqueeze(0)) # 인덱스가 0부터 시작하므로 0은 첫번째 차원을 의미한다.\n",
    "print(ft.unsqueeze(0).shape)"
   ]
  },
  {
   "cell_type": "code",
   "execution_count": 29,
   "id": "fuzzy-stanley",
   "metadata": {},
   "outputs": [
    {
     "name": "stdout",
     "output_type": "stream",
     "text": [
      "tensor([[0.],\n",
      "        [1.],\n",
      "        [2.]])\n",
      "torch.Size([3, 1])\n"
     ]
    }
   ],
   "source": [
    "print(ft.unsqueeze(1))\n",
    "print(ft.unsqueeze(1).shape)"
   ]
  },
  {
   "cell_type": "markdown",
   "id": "norwegian-johnson",
   "metadata": {},
   "source": [
    "### 타입 캐스팅(Type Casting)\n",
    "- 자료형 변환"
   ]
  },
  {
   "cell_type": "code",
   "execution_count": 30,
   "id": "aquatic-saskatchewan",
   "metadata": {},
   "outputs": [
    {
     "name": "stdout",
     "output_type": "stream",
     "text": [
      "tensor([1, 2, 3, 4])\n"
     ]
    }
   ],
   "source": [
    "lt = torch.LongTensor([1, 2, 3, 4])\n",
    "print(lt)"
   ]
  },
  {
   "cell_type": "code",
   "execution_count": 31,
   "id": "canadian-there",
   "metadata": {},
   "outputs": [
    {
     "name": "stdout",
     "output_type": "stream",
     "text": [
      "tensor([1., 2., 3., 4.])\n"
     ]
    }
   ],
   "source": [
    "print(lt.float())"
   ]
  },
  {
   "cell_type": "code",
   "execution_count": 32,
   "id": "aging-beauty",
   "metadata": {},
   "outputs": [
    {
     "name": "stdout",
     "output_type": "stream",
     "text": [
      "tensor([1, 0, 0, 1], dtype=torch.uint8)\n"
     ]
    }
   ],
   "source": [
    "bt = torch.ByteTensor([True, False, False, True])\n",
    "print(bt)"
   ]
  },
  {
   "cell_type": "code",
   "execution_count": 33,
   "id": "multiple-prairie",
   "metadata": {},
   "outputs": [
    {
     "name": "stdout",
     "output_type": "stream",
     "text": [
      "tensor([1, 0, 0, 1])\n",
      "tensor([1., 0., 0., 1.])\n"
     ]
    }
   ],
   "source": [
    "print(bt.long())\n",
    "print(bt.float())"
   ]
  },
  {
   "cell_type": "markdown",
   "id": "seven-jordan",
   "metadata": {},
   "source": [
    "###  concatenate, torch.cat"
   ]
  },
  {
   "cell_type": "code",
   "execution_count": 34,
   "id": "rational-athletics",
   "metadata": {},
   "outputs": [],
   "source": [
    "x = torch.FloatTensor([[1, 2], [3, 4]])\n",
    "y = torch.FloatTensor([[5, 6], [7, 8]])"
   ]
  },
  {
   "cell_type": "markdown",
   "id": "prime-marijuana",
   "metadata": {},
   "source": [
    "dim인자를 이용할 수 있다."
   ]
  },
  {
   "cell_type": "code",
   "execution_count": 35,
   "id": "going-triangle",
   "metadata": {
    "scrolled": true
   },
   "outputs": [
    {
     "name": "stdout",
     "output_type": "stream",
     "text": [
      "tensor([[1., 2.],\n",
      "        [3., 4.],\n",
      "        [5., 6.],\n",
      "        [7., 8.]])\n"
     ]
    }
   ],
   "source": [
    "print(torch.cat([x, y], dim=0))"
   ]
  },
  {
   "cell_type": "code",
   "execution_count": 36,
   "id": "knowing-parts",
   "metadata": {},
   "outputs": [
    {
     "name": "stdout",
     "output_type": "stream",
     "text": [
      "tensor([[1., 2., 5., 6.],\n",
      "        [3., 4., 7., 8.]])\n"
     ]
    }
   ],
   "source": [
    "print(torch.cat([x, y], dim=1))"
   ]
  },
  {
   "cell_type": "markdown",
   "id": "functional-burden",
   "metadata": {},
   "source": [
    "### 스택킹(Stacking)\n",
    "- 보다 편리하게 쌓는 방법"
   ]
  },
  {
   "cell_type": "code",
   "execution_count": 37,
   "id": "executive-joseph",
   "metadata": {},
   "outputs": [],
   "source": [
    "x = torch.FloatTensor([1, 4])\n",
    "y = torch.FloatTensor([2, 5])\n",
    "z = torch.FloatTensor([3, 6])"
   ]
  },
  {
   "cell_type": "code",
   "execution_count": 38,
   "id": "hollywood-walter",
   "metadata": {
    "scrolled": true
   },
   "outputs": [
    {
     "name": "stdout",
     "output_type": "stream",
     "text": [
      "tensor([[1., 4.],\n",
      "        [2., 5.],\n",
      "        [3., 6.]])\n"
     ]
    }
   ],
   "source": [
    "print(torch.stack([x, y, z]))"
   ]
  },
  {
   "cell_type": "code",
   "execution_count": 39,
   "id": "demanding-holmes",
   "metadata": {},
   "outputs": [
    {
     "name": "stdout",
     "output_type": "stream",
     "text": [
      "tensor([[1., 4.],\n",
      "        [2., 5.],\n",
      "        [3., 6.]])\n"
     ]
    }
   ],
   "source": [
    "print(torch.cat([x.unsqueeze(0), y.unsqueeze(0), z.unsqueeze(0)], dim=0))"
   ]
  },
  {
   "cell_type": "code",
   "execution_count": 40,
   "id": "familiar-collectible",
   "metadata": {},
   "outputs": [
    {
     "name": "stdout",
     "output_type": "stream",
     "text": [
      "tensor([[1., 2., 3.],\n",
      "        [4., 5., 6.]])\n"
     ]
    }
   ],
   "source": [
    "print(torch.stack([x, y, z], dim=1))"
   ]
  },
  {
   "cell_type": "markdown",
   "id": "stable-category",
   "metadata": {},
   "source": [
    "### ones_like, zeros_like"
   ]
  },
  {
   "cell_type": "code",
   "execution_count": 41,
   "id": "incorrect-imperial",
   "metadata": {},
   "outputs": [
    {
     "name": "stdout",
     "output_type": "stream",
     "text": [
      "tensor([[0., 1., 2.],\n",
      "        [2., 1., 0.]])\n"
     ]
    }
   ],
   "source": [
    "x = torch.FloatTensor([[0, 1, 2], [2, 1, 0]])\n",
    "print(x)"
   ]
  },
  {
   "cell_type": "code",
   "execution_count": 42,
   "id": "worst-valentine",
   "metadata": {},
   "outputs": [
    {
     "name": "stdout",
     "output_type": "stream",
     "text": [
      "tensor([[1., 1., 1.],\n",
      "        [1., 1., 1.]])\n"
     ]
    }
   ],
   "source": [
    "print(torch.ones_like(x)) # 입력 텐서와 크기를 동일하게 하면서 값을 1로 채우기"
   ]
  },
  {
   "cell_type": "code",
   "execution_count": 43,
   "id": "portable-nickname",
   "metadata": {},
   "outputs": [
    {
     "name": "stdout",
     "output_type": "stream",
     "text": [
      "tensor([[0., 0., 0.],\n",
      "        [0., 0., 0.]])\n"
     ]
    }
   ],
   "source": [
    "print(torch.zeros_like(x)) # 입력 텐서와 크기를 동일하게 하면서 값을 1로 채우기"
   ]
  },
  {
   "cell_type": "markdown",
   "id": "separate-spectrum",
   "metadata": {},
   "source": [
    "### 덮어쓰기 연산 (inplace)"
   ]
  },
  {
   "cell_type": "code",
   "execution_count": 44,
   "id": "statewide-mambo",
   "metadata": {},
   "outputs": [],
   "source": [
    "x = torch.FloatTensor([[1, 2], [3, 4]])"
   ]
  },
  {
   "cell_type": "code",
   "execution_count": 45,
   "id": "patient-apollo",
   "metadata": {
    "scrolled": true
   },
   "outputs": [
    {
     "name": "stdout",
     "output_type": "stream",
     "text": [
      "tensor([[2., 4.],\n",
      "        [6., 8.]])\n",
      "tensor([[1., 2.],\n",
      "        [3., 4.]])\n"
     ]
    }
   ],
   "source": [
    "print(x.mul(2.)) # 곱하기 2를 수행한 결과를 출력\n",
    "print(x) # 기존의 값 출력"
   ]
  },
  {
   "cell_type": "markdown",
   "id": "beginning-difference",
   "metadata": {},
   "source": [
    "- 연산 뒤에 _ 를 붙이면 된다."
   ]
  },
  {
   "cell_type": "code",
   "execution_count": 46,
   "id": "minute-fighter",
   "metadata": {
    "scrolled": true
   },
   "outputs": [
    {
     "name": "stdout",
     "output_type": "stream",
     "text": [
      "tensor([[2., 4.],\n",
      "        [6., 8.]])\n",
      "tensor([[2., 4.],\n",
      "        [6., 8.]])\n"
     ]
    }
   ],
   "source": [
    "print(x.mul_(2.))  # 곱하기 2를 수행한 결과를 변수 x에 값을 저장하면서 결과를 출력\n",
    "print(x) # 기존의 값 출력"
   ]
  },
  {
   "cell_type": "markdown",
   "id": "sophisticated-virgin",
   "metadata": {},
   "source": [
    "# 03. 파이썬 클래스(class)\n",
    "- 파이토치에서는 클래스를 이용해서 구현하는 경우가 많다.\n",
    "- 복습!"
   ]
  },
  {
   "cell_type": "code",
   "execution_count": 47,
   "id": "stunning-temple",
   "metadata": {},
   "outputs": [],
   "source": [
    "result = 0  # 전역(global)변수"
   ]
  },
  {
   "cell_type": "code",
   "execution_count": 48,
   "id": "fiscal-harvey",
   "metadata": {},
   "outputs": [],
   "source": [
    "def add(num):  # 함수\n",
    "    global result\n",
    "    result += num\n",
    "    return result"
   ]
  },
  {
   "cell_type": "code",
   "execution_count": 49,
   "id": "angry-tuition",
   "metadata": {},
   "outputs": [
    {
     "name": "stdout",
     "output_type": "stream",
     "text": [
      "3\n",
      "7\n"
     ]
    }
   ],
   "source": [
    "print(add(3))\n",
    "print(add(4))"
   ]
  },
  {
   "cell_type": "code",
   "execution_count": 50,
   "id": "literary-mailman",
   "metadata": {},
   "outputs": [
    {
     "name": "stdout",
     "output_type": "stream",
     "text": [
      "3\n",
      "7\n",
      "3\n",
      "10\n"
     ]
    }
   ],
   "source": [
    "result1 = 0\n",
    "result2 = 0\n",
    "\n",
    "def add1(num):\n",
    "    global result1\n",
    "    result1 += num\n",
    "    return result1\n",
    "\n",
    "def add2(num):\n",
    "    global result2\n",
    "    result2 += num\n",
    "    return result2\n",
    "\n",
    "print(add1(3))\n",
    "print(add1(4))\n",
    "print(add2(3))\n",
    "print(add2(7))"
   ]
  },
  {
   "cell_type": "markdown",
   "id": "varied-design",
   "metadata": {},
   "source": [
    "- 위처럼 두 개의 함수로 두 연산을 할 수 있지만, 이 과정을 클래스로 구현할 수 있다."
   ]
  },
  {
   "cell_type": "code",
   "execution_count": 51,
   "id": "saved-atlanta",
   "metadata": {},
   "outputs": [],
   "source": [
    "class Calculator:\n",
    "    def __init__(self): # 객체 생성 시 호출될 때 실행되는 초기화 함수. 이를 생성자라고 한다.\n",
    "        self.result = 0\n",
    "\n",
    "    def add(self, num): # 객체 생성 후 사용할 수 있는 함수.\n",
    "        self.result += num\n",
    "        return self.result"
   ]
  },
  {
   "cell_type": "code",
   "execution_count": 52,
   "id": "endangered-paste",
   "metadata": {},
   "outputs": [],
   "source": [
    "cal1 = Calculator() # 객체 생성 (클래스를 상속받는)"
   ]
  },
  {
   "cell_type": "code",
   "execution_count": 53,
   "id": "furnished-usage",
   "metadata": {},
   "outputs": [],
   "source": [
    "cal2 = Calculator()"
   ]
  },
  {
   "cell_type": "code",
   "execution_count": 54,
   "id": "mighty-universe",
   "metadata": {},
   "outputs": [
    {
     "name": "stdout",
     "output_type": "stream",
     "text": [
      "3\n",
      "7\n",
      "3\n",
      "10\n"
     ]
    }
   ],
   "source": [
    "print(cal1.add(3))\n",
    "print(cal1.add(4))\n",
    "print(cal2.add(3))\n",
    "print(cal2.add(7))"
   ]
  },
  {
   "cell_type": "markdown",
   "id": "bulgarian-portsmouth",
   "metadata": {},
   "source": [
    "1. 클래스 구현\n",
    "2. 객체를 별도로 생성\n",
    "\n",
    "위의 과정을 통해 간결하게 구현할 수 있었다."
   ]
  }
 ],
 "metadata": {
  "kernelspec": {
   "display_name": "Python 3",
   "language": "python",
   "name": "python3"
  },
  "language_info": {
   "codemirror_mode": {
    "name": "ipython",
    "version": 3
   },
   "file_extension": ".py",
   "mimetype": "text/x-python",
   "name": "python",
   "nbconvert_exporter": "python",
   "pygments_lexer": "ipython3",
   "version": "3.7.9"
  }
 },
 "nbformat": 4,
 "nbformat_minor": 5
}
