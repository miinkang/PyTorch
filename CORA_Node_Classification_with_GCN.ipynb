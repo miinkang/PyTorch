{
  "nbformat": 4,
  "nbformat_minor": 0,
  "metadata": {
    "colab": {
      "name": "CORA_Node_Classification_with_GCN.ipynb",
      "private_outputs": true,
      "provenance": [],
      "authorship_tag": "ABX9TyOntGIJ+zn29gn2kYibmvC2",
      "include_colab_link": true
    },
    "kernelspec": {
      "name": "python3",
      "display_name": "Python 3"
    }
  },
  "cells": [
    {
      "cell_type": "markdown",
      "metadata": {
        "id": "view-in-github",
        "colab_type": "text"
      },
      "source": [
        "<a href=\"https://colab.research.google.com/github/miinkang/PyTorch/blob/main/CORA_Node_Classification_with_GCN.ipynb\" target=\"_parent\"><img src=\"https://colab.research.google.com/assets/colab-badge.svg\" alt=\"Open In Colab\"/></a>"
      ]
    },
    {
      "cell_type": "code",
      "metadata": {
        "id": "Lk1IDOJfHYPE"
      },
      "source": [
        "use_colab = True\n",
        "assert use_colab in [True, False]"
      ],
      "execution_count": null,
      "outputs": []
    },
    {
      "cell_type": "code",
      "metadata": {
        "id": "gFcQx1JGHY2-"
      },
      "source": [
        "from google.colab import drive\n",
        "drive.mount('/content/drive')"
      ],
      "execution_count": null,
      "outputs": []
    },
    {
      "cell_type": "code",
      "metadata": {
        "id": "RCqbM8vxGLxZ"
      },
      "source": [
        "import numpy as np\n",
        "import scipy.sparse as sp\n",
        "import torch\n",
        "\n",
        "\n",
        "def encode_onehot(labels):\n",
        "    classes = set(labels)\n",
        "    classes_dict = {c: np.identity(len(classes))[i, :] for i, c in\n",
        "                    enumerate(classes)}\n",
        "    labels_onehot = np.array(list(map(classes_dict.get, labels)),\n",
        "                             dtype=np.int32)\n",
        "    return labels_onehot"
      ],
      "execution_count": null,
      "outputs": []
    },
    {
      "cell_type": "code",
      "metadata": {
        "id": "i3Du29nMS7Mp"
      },
      "source": [
        "# !pip install stellargraph"
      ],
      "execution_count": null,
      "outputs": []
    },
    {
      "cell_type": "code",
      "metadata": {
        "id": "L0Cw-in8Tdkc"
      },
      "source": [
        "from stellargraph import datasets"
      ],
      "execution_count": null,
      "outputs": []
    },
    {
      "cell_type": "code",
      "metadata": {
        "id": "8Y5nSBECTnyq"
      },
      "source": [
        "dataset = datasets.Cora()\n",
        "content, cites = dataset.load()"
      ],
      "execution_count": null,
      "outputs": []
    },
    {
      "cell_type": "code",
      "metadata": {
        "id": "7ZvkHdQaTtMx"
      },
      "source": [
        "print(content)"
      ],
      "execution_count": null,
      "outputs": []
    },
    {
      "cell_type": "code",
      "metadata": {
        "id": "a0oeleD3GNfB"
      },
      "source": [
        "def load_data(G, node_subjects):\n",
        "\n",
        "    idx_features_labels = G\n",
        "    features = sp.csr_matrix(idx_features_labels[:, 1:-1], dtype=np.float32)\n",
        "    labels = encode_onehot(idx_features_labels[:, -1])\n",
        "\n",
        "    # build graph\n",
        "    idx = np.array(idx_features_labels[:, 0], dtype=np.int32)\n",
        "    idx_map = {j: i for i, j in enumerate(idx)}\n",
        "    edges_unordered = np.genfromtxt(\"{}{}.cites\".format(path, dataset),\n",
        "                                    dtype=np.int32)\n",
        "    edges = np.array(list(map(idx_map.get, edges_unordered.flatten())),\n",
        "                     dtype=np.int32).reshape(edges_unordered.shape)\n",
        "    adj = sp.coo_matrix((np.ones(edges.shape[0]), (edges[:, 0], edges[:, 1])),\n",
        "                        shape=(labels.shape[0], labels.shape[0]),\n",
        "                        dtype=np.float32)\n",
        "\n",
        "    # build symmetric adjacency matrix\n",
        "    adj = adj + adj.T.multiply(adj.T > adj) - adj.multiply(adj.T > adj)\n",
        "\n",
        "    features = normalize(features)\n",
        "    adj = normalize(adj + sp.eye(adj.shape[0]))\n",
        "\n",
        "    idx_train = range(140)\n",
        "    idx_val = range(200, 500)\n",
        "    idx_test = range(500, 1500)\n",
        "\n",
        "    features = torch.FloatTensor(np.array(features.todense()))\n",
        "    labels = torch.LongTensor(np.where(labels)[1])\n",
        "    adj = sparse_mx_to_torch_sparse_tensor(adj)\n",
        "\n",
        "    idx_train = torch.LongTensor(idx_train)\n",
        "    idx_val = torch.LongTensor(idx_val)\n",
        "    idx_test = torch.LongTensor(idx_test)\n",
        "\n",
        "    return adj, features, labels, idx_train, idx_val, idx_test"
      ],
      "execution_count": null,
      "outputs": []
    },
    {
      "cell_type": "code",
      "metadata": {
        "id": "cAA7P-yODtqk"
      },
      "source": [
        "A, features, labels, idx_train, idx_val, idx_test = load_data()"
      ],
      "execution_count": null,
      "outputs": []
    },
    {
      "cell_type": "code",
      "metadata": {
        "id": "rEcLuD_4Fo2b"
      },
      "source": [
        "class GCN_layer(nn.Module):\n",
        "    def __init__(self, in_features, out_features, A):\n",
        "        super(GCN_layer, self).__init__()\n",
        "        self.in_features = in_features\n",
        "        self.out_features = out_features\n",
        "        self.A = A\n",
        "        self.fc = nn.Linear(in_features, out_features)\n",
        "        \n",
        "    def forward(self, X):\n",
        "        return self.fc(torch.spmm(self.A, X)) #이웃 정보 종합\n",
        "\n",
        "class GCN(nn.Module):\n",
        "    def __init__(self, num_feature, num_class, A):\n",
        "        super(GNN, self).__init__()\n",
        "\n",
        "        self.feature_extractor = nn.Sequential(\n",
        "                                    GNN_layer(num_feature, 16, A),\n",
        "                                    nn.ReLU(),\n",
        "                                    GNN_layer(16, num_class, A)\n",
        "                                )\n",
        "        \n",
        "    def forward(self, X):\n",
        "        return self.feature_extractor(X)"
      ],
      "execution_count": null,
      "outputs": []
    },
    {
      "cell_type": "code",
      "metadata": {
        "id": "DnzQWkdyFpHw"
      },
      "source": [
        "def train(model, Loss, optimizer, num_epochs):\n",
        "  train_loss_arr = []\n",
        "  test_loss_arr = []\n",
        "\n",
        "  best_test_loss = 99999999\n",
        "  early_stop, early_stop_max = 0., 10.\n",
        "\n",
        "  for epoch in range(num_epochs):\n",
        "\n",
        "    # Forward Pass\n",
        "    model.train()\n",
        "    output = model(features)\n",
        "    train_loss = criterion(output[idx_train], labels[idx_train])\n",
        "\n",
        "    # Backward and optimize\n",
        "    train_loss.backward()\n",
        "    optimizer.step()\n",
        "        \n",
        "    train_loss_arr.append(train_loss.data)\n",
        "    \n",
        "    if epoch % 10 == 0:\n",
        "        model.eval()\n",
        "        \n",
        "        output = model(features)\n",
        "        val_loss = criterion(output[idx_val], labels[idx_val])\n",
        "        test_loss = criterion(output[idx_test], labels[idx_test])\n",
        "        \n",
        "        val_acc = accuracy(output[idx_val], labels[idx_val])\n",
        "        test_acc = accuracy(output[idx_test], labels[idx_test])\n",
        "        \n",
        "        test_loss_arr.append(test_loss)\n",
        "        \n",
        "        if best_ACC < val_acc:\n",
        "            best_ACC = val_acc\n",
        "            early_stop = 0\n",
        "            final_ACC = test_acc\n",
        "            print('Epoch [{}/{}], Train Loss: {:.4f}, Test Loss: {:.4f}, Test ACC: {:.4f} *'.format(epoch, 100, train_loss.data, test_loss, test_acc))\n",
        "        else:\n",
        "            early_stop += 1\n",
        "\n",
        "            print('Epoch [{}/{}], Train Loss: {:.4f}, Test Loss: {:.4f}, Test ACC: {:.4f}'.format(epoch, 100, train_loss.data, test_loss, test_acc))\n",
        "\n",
        "    if early_stop >= early_stop_max:\n",
        "        break\n",
        "        \n",
        "  print(\"Final Accuracy::\", final_ACC)"
      ],
      "execution_count": null,
      "outputs": []
    },
    {
      "cell_type": "code",
      "metadata": {
        "id": "UZOek3ezFpgm"
      },
      "source": [
        "class FCN(nn.Module):\n",
        "    def __init__(self, num_feature, num_class):\n",
        "        super(FCN, self).__init__()\n",
        "\n",
        "        self.feature_extractor = nn.Sequential(\n",
        "                                    nn.Linear(num_feature, 16),\n",
        "                                    nn.ReLU(),\n",
        "                                    nn.Linear(16, num_class)\n",
        "                                )\n",
        "\n",
        "    def forward(self, x):\n",
        "        return self.feature_extractor(x)"
      ],
      "execution_count": null,
      "outputs": []
    },
    {
      "cell_type": "code",
      "metadata": {
        "id": "oyUJW_xEFpp-"
      },
      "source": [
        "# FCN 학습 돌려서 epoch에 따른 Loss 확인\n",
        "model = FCN(features.size(1) , labels.unique().size(0))\n",
        "criterion = nn.CrossEntropyLoss()\n",
        "optimizer = optim.Adam(model.parameters(), lr=0.1, weight_decay=0.0001)\n",
        "\n",
        "train(model, criterion, optimizer, 1000)\n",
        "\n",
        "\n",
        "# GCN 학습 돌려서 epoch에 따른 Loss 확인\n",
        "model = GCN(features.size(1) , labels.unique().size(0), A)\n",
        "criterion = nn.CrossEntropyLoss()\n",
        "optimizer = optim.Adam(model.parameters(), lr=0.1, weight_decay=0.0001)\n",
        "\n",
        "train(model, criterion, optimizer, 1000)"
      ],
      "execution_count": null,
      "outputs": []
    },
    {
      "cell_type": "code",
      "metadata": {
        "id": "U0iq_I27FqA8"
      },
      "source": [
        ""
      ],
      "execution_count": null,
      "outputs": []
    }
  ]
}